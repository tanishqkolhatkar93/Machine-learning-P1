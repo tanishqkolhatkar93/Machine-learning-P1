{
 "cells": [
  {
   "cell_type": "markdown",
   "metadata": {
    "id": "tnvigXkJBVEc"
   },
   "source": [
    "# LGM-VIP Data Science Internship - Jan 2022\n",
    "\n",
    "## Task 2 - Stock Market Prediction And Forecasting Using Stacked LSTM\n",
    "\n",
    "## Author: Param Chordiya"
   ]
  },
  {
   "cell_type": "markdown",
   "metadata": {
    "id": "fJNTkcYvBa-O"
   },
   "source": [
    "### Dataset link: https://raw.githubusercontent.com/mwitiderrick/stockprice/master/NSE-TATAGLOBAL.csv"
   ]
  },
  {
   "cell_type": "markdown",
   "metadata": {
    "id": "NBQXugdUBljy"
   },
   "source": [
    "### Importing the necessary libraries"
   ]
  },
  {
   "cell_type": "code",
   "execution_count": 1,
   "metadata": {
    "id": "AgabKmrWBFeQ"
   },
   "outputs": [],
   "source": [
    "import pandas as pd\n",
    "import matplotlib.pyplot as plt\n",
    "import numpy as np\n",
    "from sklearn.preprocessing import MinMaxScaler"
   ]
  },
  {
   "cell_type": "markdown",
   "metadata": {
    "id": "3vPrjjiXB5dE"
   },
   "source": [
    "### Data processing"
   ]
  },
  {
   "cell_type": "code",
   "execution_count": 2,
   "metadata": {
    "id": "K66d6_-IB-F9"
   },
   "outputs": [],
   "source": [
    "data = pd.read_csv('https://raw.githubusercontent.com/mwitiderrick/stockprice/master/NSE-TATAGLOBAL.csv')"
   ]
  },
  {
   "cell_type": "code",
   "execution_count": 3,
   "metadata": {
    "colab": {
     "base_uri": "https://localhost:8080/",
     "height": 206
    },
    "id": "WEwVSsCUDrmK",
    "outputId": "7214989d-9f48-4feb-ee23-05fb33f4a8d9"
   },
   "outputs": [
    {
     "data": {
      "text/html": [
       "<div>\n",
       "<style scoped>\n",
       "    .dataframe tbody tr th:only-of-type {\n",
       "        vertical-align: middle;\n",
       "    }\n",
       "\n",
       "    .dataframe tbody tr th {\n",
       "        vertical-align: top;\n",
       "    }\n",
       "\n",
       "    .dataframe thead th {\n",
       "        text-align: right;\n",
       "    }\n",
       "</style>\n",
       "<table border=\"1\" class=\"dataframe\">\n",
       "  <thead>\n",
       "    <tr style=\"text-align: right;\">\n",
       "      <th></th>\n",
       "      <th>Date</th>\n",
       "      <th>Open</th>\n",
       "      <th>High</th>\n",
       "      <th>Low</th>\n",
       "      <th>Last</th>\n",
       "      <th>Close</th>\n",
       "      <th>Total Trade Quantity</th>\n",
       "      <th>Turnover (Lacs)</th>\n",
       "    </tr>\n",
       "  </thead>\n",
       "  <tbody>\n",
       "    <tr>\n",
       "      <td>0</td>\n",
       "      <td>2018-09-28</td>\n",
       "      <td>234.05</td>\n",
       "      <td>235.95</td>\n",
       "      <td>230.20</td>\n",
       "      <td>233.50</td>\n",
       "      <td>233.75</td>\n",
       "      <td>3069914</td>\n",
       "      <td>7162.35</td>\n",
       "    </tr>\n",
       "    <tr>\n",
       "      <td>1</td>\n",
       "      <td>2018-09-27</td>\n",
       "      <td>234.55</td>\n",
       "      <td>236.80</td>\n",
       "      <td>231.10</td>\n",
       "      <td>233.80</td>\n",
       "      <td>233.25</td>\n",
       "      <td>5082859</td>\n",
       "      <td>11859.95</td>\n",
       "    </tr>\n",
       "    <tr>\n",
       "      <td>2</td>\n",
       "      <td>2018-09-26</td>\n",
       "      <td>240.00</td>\n",
       "      <td>240.00</td>\n",
       "      <td>232.50</td>\n",
       "      <td>235.00</td>\n",
       "      <td>234.25</td>\n",
       "      <td>2240909</td>\n",
       "      <td>5248.60</td>\n",
       "    </tr>\n",
       "    <tr>\n",
       "      <td>3</td>\n",
       "      <td>2018-09-25</td>\n",
       "      <td>233.30</td>\n",
       "      <td>236.75</td>\n",
       "      <td>232.00</td>\n",
       "      <td>236.25</td>\n",
       "      <td>236.10</td>\n",
       "      <td>2349368</td>\n",
       "      <td>5503.90</td>\n",
       "    </tr>\n",
       "    <tr>\n",
       "      <td>4</td>\n",
       "      <td>2018-09-24</td>\n",
       "      <td>233.55</td>\n",
       "      <td>239.20</td>\n",
       "      <td>230.75</td>\n",
       "      <td>234.00</td>\n",
       "      <td>233.30</td>\n",
       "      <td>3423509</td>\n",
       "      <td>7999.55</td>\n",
       "    </tr>\n",
       "  </tbody>\n",
       "</table>\n",
       "</div>"
      ],
      "text/plain": [
       "         Date    Open    High     Low    Last   Close  Total Trade Quantity  \\\n",
       "0  2018-09-28  234.05  235.95  230.20  233.50  233.75               3069914   \n",
       "1  2018-09-27  234.55  236.80  231.10  233.80  233.25               5082859   \n",
       "2  2018-09-26  240.00  240.00  232.50  235.00  234.25               2240909   \n",
       "3  2018-09-25  233.30  236.75  232.00  236.25  236.10               2349368   \n",
       "4  2018-09-24  233.55  239.20  230.75  234.00  233.30               3423509   \n",
       "\n",
       "   Turnover (Lacs)  \n",
       "0          7162.35  \n",
       "1         11859.95  \n",
       "2          5248.60  \n",
       "3          5503.90  \n",
       "4          7999.55  "
      ]
     },
     "execution_count": 3,
     "metadata": {},
     "output_type": "execute_result"
    }
   ],
   "source": [
    "data.head() #shows first 5 rows of dataset"
   ]
  },
  {
   "cell_type": "code",
   "execution_count": 4,
   "metadata": {
    "colab": {
     "base_uri": "https://localhost:8080/",
     "height": 206
    },
    "id": "bZSyK4yDDzR6",
    "outputId": "7eea196e-ba9c-44ad-a25f-d47addd75e6b"
   },
   "outputs": [
    {
     "data": {
      "text/html": [
       "<div>\n",
       "<style scoped>\n",
       "    .dataframe tbody tr th:only-of-type {\n",
       "        vertical-align: middle;\n",
       "    }\n",
       "\n",
       "    .dataframe tbody tr th {\n",
       "        vertical-align: top;\n",
       "    }\n",
       "\n",
       "    .dataframe thead th {\n",
       "        text-align: right;\n",
       "    }\n",
       "</style>\n",
       "<table border=\"1\" class=\"dataframe\">\n",
       "  <thead>\n",
       "    <tr style=\"text-align: right;\">\n",
       "      <th></th>\n",
       "      <th>Date</th>\n",
       "      <th>Open</th>\n",
       "      <th>High</th>\n",
       "      <th>Low</th>\n",
       "      <th>Last</th>\n",
       "      <th>Close</th>\n",
       "      <th>Total Trade Quantity</th>\n",
       "      <th>Turnover (Lacs)</th>\n",
       "    </tr>\n",
       "  </thead>\n",
       "  <tbody>\n",
       "    <tr>\n",
       "      <td>2030</td>\n",
       "      <td>2010-07-27</td>\n",
       "      <td>117.6</td>\n",
       "      <td>119.50</td>\n",
       "      <td>112.00</td>\n",
       "      <td>118.80</td>\n",
       "      <td>118.65</td>\n",
       "      <td>586100</td>\n",
       "      <td>694.98</td>\n",
       "    </tr>\n",
       "    <tr>\n",
       "      <td>2031</td>\n",
       "      <td>2010-07-26</td>\n",
       "      <td>120.1</td>\n",
       "      <td>121.00</td>\n",
       "      <td>117.10</td>\n",
       "      <td>117.10</td>\n",
       "      <td>117.60</td>\n",
       "      <td>658440</td>\n",
       "      <td>780.01</td>\n",
       "    </tr>\n",
       "    <tr>\n",
       "      <td>2032</td>\n",
       "      <td>2010-07-23</td>\n",
       "      <td>121.8</td>\n",
       "      <td>121.95</td>\n",
       "      <td>120.25</td>\n",
       "      <td>120.35</td>\n",
       "      <td>120.65</td>\n",
       "      <td>281312</td>\n",
       "      <td>340.31</td>\n",
       "    </tr>\n",
       "    <tr>\n",
       "      <td>2033</td>\n",
       "      <td>2010-07-22</td>\n",
       "      <td>120.3</td>\n",
       "      <td>122.00</td>\n",
       "      <td>120.25</td>\n",
       "      <td>120.75</td>\n",
       "      <td>120.90</td>\n",
       "      <td>293312</td>\n",
       "      <td>355.17</td>\n",
       "    </tr>\n",
       "    <tr>\n",
       "      <td>2034</td>\n",
       "      <td>2010-07-21</td>\n",
       "      <td>122.1</td>\n",
       "      <td>123.00</td>\n",
       "      <td>121.05</td>\n",
       "      <td>121.10</td>\n",
       "      <td>121.55</td>\n",
       "      <td>658666</td>\n",
       "      <td>803.56</td>\n",
       "    </tr>\n",
       "  </tbody>\n",
       "</table>\n",
       "</div>"
      ],
      "text/plain": [
       "            Date   Open    High     Low    Last   Close  Total Trade Quantity  \\\n",
       "2030  2010-07-27  117.6  119.50  112.00  118.80  118.65                586100   \n",
       "2031  2010-07-26  120.1  121.00  117.10  117.10  117.60                658440   \n",
       "2032  2010-07-23  121.8  121.95  120.25  120.35  120.65                281312   \n",
       "2033  2010-07-22  120.3  122.00  120.25  120.75  120.90                293312   \n",
       "2034  2010-07-21  122.1  123.00  121.05  121.10  121.55                658666   \n",
       "\n",
       "      Turnover (Lacs)  \n",
       "2030           694.98  \n",
       "2031           780.01  \n",
       "2032           340.31  \n",
       "2033           355.17  \n",
       "2034           803.56  "
      ]
     },
     "execution_count": 4,
     "metadata": {},
     "output_type": "execute_result"
    }
   ],
   "source": [
    "data.tail() #shows last 5 rows of dataset"
   ]
  },
  {
   "cell_type": "code",
   "execution_count": 5,
   "metadata": {
    "colab": {
     "base_uri": "https://localhost:8080/",
     "height": 206
    },
    "id": "Yce266qyD9tR",
    "outputId": "e0fac4f3-642c-40f3-b5f6-7430cb82b693"
   },
   "outputs": [
    {
     "data": {
      "text/html": [
       "<div>\n",
       "<style scoped>\n",
       "    .dataframe tbody tr th:only-of-type {\n",
       "        vertical-align: middle;\n",
       "    }\n",
       "\n",
       "    .dataframe tbody tr th {\n",
       "        vertical-align: top;\n",
       "    }\n",
       "\n",
       "    .dataframe thead th {\n",
       "        text-align: right;\n",
       "    }\n",
       "</style>\n",
       "<table border=\"1\" class=\"dataframe\">\n",
       "  <thead>\n",
       "    <tr style=\"text-align: right;\">\n",
       "      <th></th>\n",
       "      <th>Date</th>\n",
       "      <th>Open</th>\n",
       "      <th>High</th>\n",
       "      <th>Low</th>\n",
       "      <th>Last</th>\n",
       "      <th>Close</th>\n",
       "      <th>Total Trade Quantity</th>\n",
       "      <th>Turnover (Lacs)</th>\n",
       "    </tr>\n",
       "  </thead>\n",
       "  <tbody>\n",
       "    <tr>\n",
       "      <td>2034</td>\n",
       "      <td>2010-07-21</td>\n",
       "      <td>122.1</td>\n",
       "      <td>123.00</td>\n",
       "      <td>121.05</td>\n",
       "      <td>121.10</td>\n",
       "      <td>121.55</td>\n",
       "      <td>658666</td>\n",
       "      <td>803.56</td>\n",
       "    </tr>\n",
       "    <tr>\n",
       "      <td>2033</td>\n",
       "      <td>2010-07-22</td>\n",
       "      <td>120.3</td>\n",
       "      <td>122.00</td>\n",
       "      <td>120.25</td>\n",
       "      <td>120.75</td>\n",
       "      <td>120.90</td>\n",
       "      <td>293312</td>\n",
       "      <td>355.17</td>\n",
       "    </tr>\n",
       "    <tr>\n",
       "      <td>2032</td>\n",
       "      <td>2010-07-23</td>\n",
       "      <td>121.8</td>\n",
       "      <td>121.95</td>\n",
       "      <td>120.25</td>\n",
       "      <td>120.35</td>\n",
       "      <td>120.65</td>\n",
       "      <td>281312</td>\n",
       "      <td>340.31</td>\n",
       "    </tr>\n",
       "    <tr>\n",
       "      <td>2031</td>\n",
       "      <td>2010-07-26</td>\n",
       "      <td>120.1</td>\n",
       "      <td>121.00</td>\n",
       "      <td>117.10</td>\n",
       "      <td>117.10</td>\n",
       "      <td>117.60</td>\n",
       "      <td>658440</td>\n",
       "      <td>780.01</td>\n",
       "    </tr>\n",
       "    <tr>\n",
       "      <td>2030</td>\n",
       "      <td>2010-07-27</td>\n",
       "      <td>117.6</td>\n",
       "      <td>119.50</td>\n",
       "      <td>112.00</td>\n",
       "      <td>118.80</td>\n",
       "      <td>118.65</td>\n",
       "      <td>586100</td>\n",
       "      <td>694.98</td>\n",
       "    </tr>\n",
       "  </tbody>\n",
       "</table>\n",
       "</div>"
      ],
      "text/plain": [
       "           Date   Open    High     Low    Last   Close  Total Trade Quantity  \\\n",
       "2034 2010-07-21  122.1  123.00  121.05  121.10  121.55                658666   \n",
       "2033 2010-07-22  120.3  122.00  120.25  120.75  120.90                293312   \n",
       "2032 2010-07-23  121.8  121.95  120.25  120.35  120.65                281312   \n",
       "2031 2010-07-26  120.1  121.00  117.10  117.10  117.60                658440   \n",
       "2030 2010-07-27  117.6  119.50  112.00  118.80  118.65                586100   \n",
       "\n",
       "      Turnover (Lacs)  \n",
       "2034           803.56  \n",
       "2033           355.17  \n",
       "2032           340.31  \n",
       "2031           780.01  \n",
       "2030           694.98  "
      ]
     },
     "execution_count": 5,
     "metadata": {},
     "output_type": "execute_result"
    }
   ],
   "source": [
    "#Sort the dataset according to the date\n",
    "data['Date'] = pd.to_datetime(data['Date'])\n",
    "df = data.sort_values(by='Date')\n",
    "df.head()"
   ]
  },
  {
   "cell_type": "markdown",
   "metadata": {
    "id": "WNexZacuFPwl"
   },
   "source": [
    "### Index is not in order, lets make it in order"
   ]
  },
  {
   "cell_type": "code",
   "execution_count": 6,
   "metadata": {
    "id": "OB1JtB9sFTmE"
   },
   "outputs": [],
   "source": [
    "df.reset_index(inplace=True)"
   ]
  },
  {
   "cell_type": "code",
   "execution_count": 7,
   "metadata": {
    "colab": {
     "base_uri": "https://localhost:8080/",
     "height": 206
    },
    "id": "P-aKdwVwFdIZ",
    "outputId": "21fc6720-64af-4c34-dc28-81a295405e6f"
   },
   "outputs": [
    {
     "data": {
      "text/html": [
       "<div>\n",
       "<style scoped>\n",
       "    .dataframe tbody tr th:only-of-type {\n",
       "        vertical-align: middle;\n",
       "    }\n",
       "\n",
       "    .dataframe tbody tr th {\n",
       "        vertical-align: top;\n",
       "    }\n",
       "\n",
       "    .dataframe thead th {\n",
       "        text-align: right;\n",
       "    }\n",
       "</style>\n",
       "<table border=\"1\" class=\"dataframe\">\n",
       "  <thead>\n",
       "    <tr style=\"text-align: right;\">\n",
       "      <th></th>\n",
       "      <th>index</th>\n",
       "      <th>Date</th>\n",
       "      <th>Open</th>\n",
       "      <th>High</th>\n",
       "      <th>Low</th>\n",
       "      <th>Last</th>\n",
       "      <th>Close</th>\n",
       "      <th>Total Trade Quantity</th>\n",
       "      <th>Turnover (Lacs)</th>\n",
       "    </tr>\n",
       "  </thead>\n",
       "  <tbody>\n",
       "    <tr>\n",
       "      <td>0</td>\n",
       "      <td>2034</td>\n",
       "      <td>2010-07-21</td>\n",
       "      <td>122.1</td>\n",
       "      <td>123.00</td>\n",
       "      <td>121.05</td>\n",
       "      <td>121.10</td>\n",
       "      <td>121.55</td>\n",
       "      <td>658666</td>\n",
       "      <td>803.56</td>\n",
       "    </tr>\n",
       "    <tr>\n",
       "      <td>1</td>\n",
       "      <td>2033</td>\n",
       "      <td>2010-07-22</td>\n",
       "      <td>120.3</td>\n",
       "      <td>122.00</td>\n",
       "      <td>120.25</td>\n",
       "      <td>120.75</td>\n",
       "      <td>120.90</td>\n",
       "      <td>293312</td>\n",
       "      <td>355.17</td>\n",
       "    </tr>\n",
       "    <tr>\n",
       "      <td>2</td>\n",
       "      <td>2032</td>\n",
       "      <td>2010-07-23</td>\n",
       "      <td>121.8</td>\n",
       "      <td>121.95</td>\n",
       "      <td>120.25</td>\n",
       "      <td>120.35</td>\n",
       "      <td>120.65</td>\n",
       "      <td>281312</td>\n",
       "      <td>340.31</td>\n",
       "    </tr>\n",
       "    <tr>\n",
       "      <td>3</td>\n",
       "      <td>2031</td>\n",
       "      <td>2010-07-26</td>\n",
       "      <td>120.1</td>\n",
       "      <td>121.00</td>\n",
       "      <td>117.10</td>\n",
       "      <td>117.10</td>\n",
       "      <td>117.60</td>\n",
       "      <td>658440</td>\n",
       "      <td>780.01</td>\n",
       "    </tr>\n",
       "    <tr>\n",
       "      <td>4</td>\n",
       "      <td>2030</td>\n",
       "      <td>2010-07-27</td>\n",
       "      <td>117.6</td>\n",
       "      <td>119.50</td>\n",
       "      <td>112.00</td>\n",
       "      <td>118.80</td>\n",
       "      <td>118.65</td>\n",
       "      <td>586100</td>\n",
       "      <td>694.98</td>\n",
       "    </tr>\n",
       "  </tbody>\n",
       "</table>\n",
       "</div>"
      ],
      "text/plain": [
       "   index       Date   Open    High     Low    Last   Close  \\\n",
       "0   2034 2010-07-21  122.1  123.00  121.05  121.10  121.55   \n",
       "1   2033 2010-07-22  120.3  122.00  120.25  120.75  120.90   \n",
       "2   2032 2010-07-23  121.8  121.95  120.25  120.35  120.65   \n",
       "3   2031 2010-07-26  120.1  121.00  117.10  117.10  117.60   \n",
       "4   2030 2010-07-27  117.6  119.50  112.00  118.80  118.65   \n",
       "\n",
       "   Total Trade Quantity  Turnover (Lacs)  \n",
       "0                658666           803.56  \n",
       "1                293312           355.17  \n",
       "2                281312           340.31  \n",
       "3                658440           780.01  \n",
       "4                586100           694.98  "
      ]
     },
     "execution_count": 7,
     "metadata": {},
     "output_type": "execute_result"
    }
   ],
   "source": [
    "df.head()"
   ]
  },
  {
   "cell_type": "markdown",
   "metadata": {
    "id": "vgw2i3OKFlEb"
   },
   "source": [
    "### Plotting the graph of stocks at Close"
   ]
  },
  {
   "cell_type": "code",
   "execution_count": 8,
   "metadata": {
    "colab": {
     "base_uri": "https://localhost:8080/",
     "height": 284
    },
    "id": "5bZgYj7RFj7e",
    "outputId": "26568616-5639-4041-c78f-016af83a7f1e"
   },
   "outputs": [
    {
     "data": {
      "text/plain": [
       "[<matplotlib.lines.Line2D at 0x2a046f7d208>]"
      ]
     },
     "execution_count": 8,
     "metadata": {},
     "output_type": "execute_result"
    },
    {
     "data": {
      "image/png": "[encoded data removed]",
      "text/plain": [
       "<Figure size 432x288 with 1 Axes>"
      ]
     },
     "metadata": {
      "needs_background": "light"
     },
     "output_type": "display_data"
    }
   ],
   "source": [
    "plt.plot(df['Close'])"
   ]
  },
  {
   "cell_type": "code",
   "execution_count": 9,
   "metadata": {
    "id": "HYRSBFAiFzRV"
   },
   "outputs": [],
   "source": [
    "df1 = df['Close']"
   ]
  },
  {
   "cell_type": "markdown",
   "metadata": {
    "id": "E_NKcMX0Gemr"
   },
   "source": [
    "### Feature Scaling"
   ]
  },
  {
   "cell_type": "code",
   "execution_count": 10,
   "metadata": {
    "colab": {
     "base_uri": "https://localhost:8080/"
    },
    "id": "1kuG7DN5F82m",
    "outputId": "3d454206-e635-44ab-872e-a9ef1b99b532"
   },
   "outputs": [
    {
     "data": {
      "text/plain": [
       "array([[0.16584967],\n",
       "       [0.16319444],\n",
       "       [0.1621732 ],\n",
       "       ...,\n",
       "       [0.62622549],\n",
       "       [0.62214052],\n",
       "       [0.62418301]])"
      ]
     },
     "execution_count": 10,
     "metadata": {},
     "output_type": "execute_result"
    }
   ],
   "source": [
    "scaler = MinMaxScaler(feature_range=(0,1))\n",
    "df1 = scaler.fit_transform(np.array(df1).reshape(-1,1))\n",
    "df1"
   ]
  },
  {
   "cell_type": "markdown",
   "metadata": {
    "id": "mjU1WPcSGh2u"
   },
   "source": [
    "### Splitting the data into training and test sets"
   ]
  },
  {
   "cell_type": "code",
   "execution_count": 11,
   "metadata": {
    "id": "ybijyUdPGq1f"
   },
   "outputs": [],
   "source": [
    "training_size = int(len(df1)*0.70)\n",
    "test_size = len(df1) - training_size\n",
    "\n",
    "\n",
    "train_data = df1[0:training_size,:]\n",
    "test_data = df1[training_size:len(df1), :1]"
   ]
  },
  {
   "cell_type": "code",
   "execution_count": 12,
   "metadata": {
    "colab": {
     "base_uri": "https://localhost:8080/"
    },
    "id": "QSkHCl0fJRXX",
    "outputId": "453b9190-9387-49ea-98d2-10243b889e50"
   },
   "outputs": [
    {
     "data": {
      "text/plain": [
       "(1424, 611)"
      ]
     },
     "execution_count": 12,
     "metadata": {},
     "output_type": "execute_result"
    }
   ],
   "source": [
    "training_size, test_size"
   ]
  },
  {
   "cell_type": "code",
   "execution_count": 13,
   "metadata": {
    "id": "fwgqCdA5JVOx"
   },
   "outputs": [],
   "source": [
    "#convert an array of values into a dataset matrix\n",
    "def datasetCrtd(dataset, time_step=1):\n",
    "  dataX, dataY = [], []\n",
    "  for i in range(len(dataset)-time_step-1):\n",
    "    a = dataset[i:(i+time_step), 0]\n",
    "    dataX.append(a)\n",
    "    dataY.append(dataset[i + time_step, 0])\n",
    "\n",
    "  return np.array(dataX), np.array(dataY)"
   ]
  },
  {
   "cell_type": "code",
   "execution_count": 14,
   "metadata": {
    "id": "YMOMczvOKJHa"
   },
   "outputs": [],
   "source": [
    "time_step = 100\n",
    "X_train, y_train = datasetCrtd(train_data, time_step)\n",
    "X_test, ytest = datasetCrtd(test_data, time_step)"
   ]
  },
  {
   "cell_type": "code",
   "execution_count": 15,
   "metadata": {
    "colab": {
     "base_uri": "https://localhost:8080/"
    },
    "id": "GMi_ZD8qKj94",
    "outputId": "a552add0-62a5-4a5f-c7e3-a8cff4f730ef"
   },
   "outputs": [
    {
     "name": "stdout",
     "output_type": "stream",
     "text": [
      "(1323, 100)\n",
      "(1323,)\n"
     ]
    },
    {
     "data": {
      "text/plain": [
       "(None, None)"
      ]
     },
     "execution_count": 15,
     "metadata": {},
     "output_type": "execute_result"
    }
   ],
   "source": [
    "print(X_train.shape), print(y_train.shape)"
   ]
  },
  {
   "cell_type": "code",
   "execution_count": 16,
   "metadata": {
    "id": "hyZyK4WUK2ln"
   },
   "outputs": [],
   "source": [
    "#Reshape input which is required for LSTM\n",
    "X_train = X_train.reshape(X_train.shape[0], X_train.shape[1], 1)\n",
    "X_test = X_test.reshape(X_test.shape[0], X_test.shape[1], 1)"
   ]
  },
  {
   "cell_type": "markdown",
   "metadata": {
    "id": "QFWN8YiKLb4a"
   },
   "source": [
    "### Building the Model"
   ]
  },
  {
   "cell_type": "code",
   "execution_count": 17,
   "metadata": {
    "id": "BsRYAsXCLWdJ"
   },
   "outputs": [],
   "source": [
    "from tensorflow.keras.models import Sequential\n",
    "from tensorflow.keras.layers import Dense\n",
    "from tensorflow.keras.layers import LSTM"
   ]
  },
  {
   "cell_type": "code",
   "execution_count": 18,
   "metadata": {
    "colab": {
     "base_uri": "https://localhost:8080/"
    },
    "id": "eI-efQ1sLqID",
    "outputId": "5de24ae3-a079-4655-b91f-c7cbe9c552c5"
   },
   "outputs": [
    {
     "name": "stdout",
     "output_type": "stream",
     "text": [
      "Model: \"sequential\"\n",
      "_________________________________________________________________\n",
      "Layer (type)                 Output Shape              Param #   \n",
      "=================================================================\n",
      "lstm (LSTM)                  (None, 100, 50)           10400     \n",
      "_________________________________________________________________\n",
      "lstm_1 (LSTM)                (None, 100, 50)           20200     \n",
      "_________________________________________________________________\n",
      "lstm_2 (LSTM)                (None, 50)                20200     \n",
      "_________________________________________________________________\n",
      "dense (Dense)                (None, 1)                 51        \n",
      "=================================================================\n",
      "Total params: 50,851\n",
      "Trainable params: 50,851\n",
      "Non-trainable params: 0\n",
      "_________________________________________________________________\n"
     ]
    }
   ],
   "source": [
    "model = Sequential()\n",
    "model.add(LSTM(50, return_sequences=True, input_shape=(100,1)))\n",
    "model.add(LSTM(50, return_sequences=True))\n",
    "model.add(LSTM(50))\n",
    "model.add(Dense(1))\n",
    "model.compile(loss='mean_squared_error', optimizer='adam')\n",
    "model.summary()"
   ]
  },
  {
   "cell_type": "code",
   "execution_count": 19,
   "metadata": {
    "colab": {
     "base_uri": "https://localhost:8080/"
    },
    "id": "j2x7wJPnMvJg",
    "outputId": "af4adfed-b6f3-4293-a648-16438d51de69"
   },
   "outputs": [
    {
     "name": "stdout",
     "output_type": "stream",
     "text": [
      "Epoch 1/60\n",
      "19/19 [==============================] - 39s 891ms/step - loss: 0.0105 - val_loss: 0.0015\n",
      "Epoch 2/60\n",
      "19/19 [==============================] - 7s 344ms/step - loss: 0.0019 - val_loss: 0.0014\n",
      "Epoch 3/60\n",
      "19/19 [==============================] - 6s 324ms/step - loss: 9.4127e-04 - val_loss: 0.0012\n",
      "Epoch 4/60\n",
      "19/19 [==============================] - 8s 404ms/step - loss: 8.5686e-04 - val_loss: 0.0011\n",
      "Epoch 5/60\n",
      "19/19 [==============================] - 9s 459ms/step - loss: 8.4973e-04 - val_loss: 0.0012\n",
      "Epoch 6/60\n",
      "19/19 [==============================] - 7s 378ms/step - loss: 8.0545e-04 - val_loss: 0.0011\n",
      "Epoch 7/60\n",
      "19/19 [==============================] - 8s 446ms/step - loss: 7.7376e-04 - val_loss: 9.7440e-04\n",
      "Epoch 8/60\n",
      "19/19 [==============================] - 9s 478ms/step - loss: 7.4312e-04 - val_loss: 9.4232e-04\n",
      "Epoch 9/60\n",
      "19/19 [==============================] - 7s 371ms/step - loss: 7.2828e-04 - val_loss: 9.5473e-04\n",
      "Epoch 10/60\n",
      "19/19 [==============================] - 6s 323ms/step - loss: 7.0820e-04 - val_loss: 8.7015e-04\n",
      "Epoch 11/60\n",
      "19/19 [==============================] - 7s 393ms/step - loss: 6.7149e-04 - val_loss: 8.7790e-04\n",
      "Epoch 12/60\n",
      "19/19 [==============================] - 8s 438ms/step - loss: 6.5410e-04 - val_loss: 7.6066e-04\n",
      "Epoch 13/60\n",
      "19/19 [==============================] - 7s 359ms/step - loss: 6.1239e-04 - val_loss: 7.1052e-04\n",
      "Epoch 14/60\n",
      "19/19 [==============================] - 9s 475ms/step - loss: 6.0411e-04 - val_loss: 6.7591e-04\n",
      "Epoch 15/60\n",
      "19/19 [==============================] - 8s 410ms/step - loss: 5.9399e-04 - val_loss: 7.2668e-04\n",
      "Epoch 16/60\n",
      "19/19 [==============================] - 7s 351ms/step - loss: 6.1017e-04 - val_loss: 6.5532e-04\n",
      "Epoch 17/60\n",
      "19/19 [==============================] - 8s 449ms/step - loss: 5.7592e-04 - val_loss: 6.0782e-04\n",
      "Epoch 18/60\n",
      "19/19 [==============================] - 10s 503ms/step - loss: 5.4539e-04 - val_loss: 6.0888e-04\n",
      "Epoch 19/60\n",
      "19/19 [==============================] - 9s 446ms/step - loss: 5.2776e-04 - val_loss: 6.6365e-04\n",
      "Epoch 20/60\n",
      "19/19 [==============================] - 9s 447ms/step - loss: 5.3625e-04 - val_loss: 6.0981e-04\n",
      "Epoch 21/60\n",
      "19/19 [==============================] - 9s 470ms/step - loss: 5.0875e-04 - val_loss: 5.4814e-04\n",
      "Epoch 22/60\n",
      "19/19 [==============================] - 7s 374ms/step - loss: 4.9186e-04 - val_loss: 6.2096e-04\n",
      "Epoch 23/60\n",
      "19/19 [==============================] - 6s 336ms/step - loss: 5.1744e-04 - val_loss: 5.3455e-04\n",
      "Epoch 24/60\n",
      "19/19 [==============================] - 9s 475ms/step - loss: 4.8862e-04 - val_loss: 4.8713e-04\n",
      "Epoch 25/60\n",
      "19/19 [==============================] - 9s 469ms/step - loss: 4.5899e-04 - val_loss: 5.9917e-04\n",
      "Epoch 26/60\n",
      "19/19 [==============================] - 9s 468ms/step - loss: 4.4428e-04 - val_loss: 4.6468e-04\n",
      "Epoch 27/60\n",
      "19/19 [==============================] - 9s 474ms/step - loss: 4.2237e-04 - val_loss: 4.2495e-04\n",
      "Epoch 28/60\n",
      "19/19 [==============================] - 9s 491ms/step - loss: 4.1092e-04 - val_loss: 4.0074e-04\n",
      "Epoch 29/60\n",
      "19/19 [==============================] - 7s 379ms/step - loss: 4.4538e-04 - val_loss: 3.9397e-04\n",
      "Epoch 30/60\n",
      "19/19 [==============================] - 8s 410ms/step - loss: 4.0444e-04 - val_loss: 5.0173e-04\n",
      "Epoch 31/60\n",
      "19/19 [==============================] - 9s 499ms/step - loss: 4.0269e-04 - val_loss: 3.6983e-04\n",
      "Epoch 32/60\n",
      "19/19 [==============================] - 7s 372ms/step - loss: 3.5134e-04 - val_loss: 3.7953e-04\n",
      "Epoch 33/60\n",
      "19/19 [==============================] - 10s 514ms/step - loss: 3.4109e-04 - val_loss: 3.6009e-04\n",
      "Epoch 34/60\n",
      "19/19 [==============================] - 9s 478ms/step - loss: 3.3255e-04 - val_loss: 3.6343e-04\n",
      "Epoch 35/60\n",
      "19/19 [==============================] - 7s 381ms/step - loss: 3.2741e-04 - val_loss: 3.5155e-04\n",
      "Epoch 36/60\n",
      "19/19 [==============================] - 7s 365ms/step - loss: 3.1372e-04 - val_loss: 3.0561e-04\n",
      "Epoch 37/60\n",
      "19/19 [==============================] - 8s 420ms/step - loss: 3.0347e-04 - val_loss: 2.8639e-04\n",
      "Epoch 38/60\n",
      "19/19 [==============================] - 7s 377ms/step - loss: 3.0762e-04 - val_loss: 2.7041e-04\n",
      "Epoch 39/60\n",
      "19/19 [==============================] - 9s 468ms/step - loss: 2.9111e-04 - val_loss: 2.8133e-04\n",
      "Epoch 40/60\n",
      "19/19 [==============================] - 9s 477ms/step - loss: 2.8976e-04 - val_loss: 2.5022e-04\n",
      "Epoch 41/60\n",
      "19/19 [==============================] - 8s 417ms/step - loss: 2.7354e-04 - val_loss: 2.4889e-04\n",
      "Epoch 42/60\n",
      "19/19 [==============================] - 8s 442ms/step - loss: 2.8650e-04 - val_loss: 2.3695e-04\n",
      "Epoch 43/60\n",
      "19/19 [==============================] - 11s 584ms/step - loss: 2.6301e-04 - val_loss: 2.2889e-04\n",
      "Epoch 44/60\n",
      "19/19 [==============================] - 11s 597ms/step - loss: 2.5708e-04 - val_loss: 2.4482e-04\n",
      "Epoch 45/60\n",
      "19/19 [==============================] - 8s 433ms/step - loss: 2.5249e-04 - val_loss: 2.4178e-04\n",
      "Epoch 46/60\n",
      "19/19 [==============================] - 10s 547ms/step - loss: 2.4585e-04 - val_loss: 2.1474e-04\n",
      "Epoch 47/60\n",
      "19/19 [==============================] - 8s 439ms/step - loss: 2.6205e-04 - val_loss: 2.1213e-04\n",
      "Epoch 48/60\n",
      "19/19 [==============================] - 6s 321ms/step - loss: 2.2148e-04 - val_loss: 2.5571e-04\n",
      "Epoch 49/60\n",
      "19/19 [==============================] - 6s 334ms/step - loss: 2.3520e-04 - val_loss: 2.0073e-04\n",
      "Epoch 50/60\n",
      "19/19 [==============================] - 9s 461ms/step - loss: 2.1900e-04 - val_loss: 1.8364e-04\n",
      "Epoch 51/60\n",
      "19/19 [==============================] - 9s 462ms/step - loss: 2.0903e-04 - val_loss: 1.7870e-04\n",
      "Epoch 52/60\n",
      "19/19 [==============================] - 10s 509ms/step - loss: 1.9867e-04 - val_loss: 1.9206e-04\n",
      "Epoch 53/60\n",
      "19/19 [==============================] - 7s 395ms/step - loss: 2.0485e-04 - val_loss: 1.7207e-04\n",
      "Epoch 54/60\n",
      "19/19 [==============================] - 11s 558ms/step - loss: 2.3607e-04 - val_loss: 1.7920e-04\n",
      "Epoch 55/60\n",
      "19/19 [==============================] - 10s 501ms/step - loss: 2.7541e-04 - val_loss: 2.2000e-04\n",
      "Epoch 56/60\n",
      "19/19 [==============================] - 9s 458ms/step - loss: 2.3209e-04 - val_loss: 1.7961e-04\n",
      "Epoch 57/60\n",
      "19/19 [==============================] - 7s 368ms/step - loss: 1.9460e-04 - val_loss: 2.3454e-04\n",
      "Epoch 58/60\n",
      "19/19 [==============================] - 9s 494ms/step - loss: 1.9117e-04 - val_loss: 1.5578e-04\n",
      "Epoch 59/60\n",
      "19/19 [==============================] - 10s 544ms/step - loss: 1.9210e-04 - val_loss: 1.5237e-04\n",
      "Epoch 60/60\n",
      "19/19 [==============================] - 8s 402ms/step - loss: 1.8933e-04 - val_loss: 1.7804e-04\n"
     ]
    },
    {
     "data": {
      "text/plain": [
       "<tensorflow.python.keras.callbacks.History at 0x2a0555f75c8>"
      ]
     },
     "execution_count": 19,
     "metadata": {},
     "output_type": "execute_result"
    }
   ],
   "source": [
    "model.fit(X_train, y_train, validation_split=0.1, epochs=60, batch_size=64, verbose=1)"
   ]
  },
  {
   "cell_type": "code",
   "execution_count": 20,
   "metadata": {
    "id": "NFwfdx4LNqB_"
   },
   "outputs": [],
   "source": [
    "#Prediction of scaled test set\n",
    "test_predict = model.predict(X_test)"
   ]
  },
  {
   "cell_type": "code",
   "execution_count": 21,
   "metadata": {
    "id": "rEex6ibwNwKo"
   },
   "outputs": [],
   "source": [
    "#transform to original test set\n",
    "test_predict1 = scaler.inverse_transform(test_predict)"
   ]
  },
  {
   "cell_type": "code",
   "execution_count": 22,
   "metadata": {
    "colab": {
     "base_uri": "https://localhost:8080/"
    },
    "id": "iQf0eqXIPtPj",
    "outputId": "9d525ed5-8d2e-41db-b788-054b7397713f"
   },
   "outputs": [
    {
     "data": {
      "text/plain": [
       "array([[143.20535 ],\n",
       "       [143.28731 ],\n",
       "       [142.18237 ],\n",
       "       [139.1165  ],\n",
       "       [137.51799 ],\n",
       "       [137.51917 ],\n",
       "       [139.43681 ],\n",
       "       [141.31224 ],\n",
       "       [141.16649 ],\n",
       "       [139.961   ],\n",
       "       [139.34196 ],\n",
       "       [140.98036 ],\n",
       "       [142.30109 ],\n",
       "       [144.2296  ],\n",
       "       [146.58607 ],\n",
       "       [143.66446 ],\n",
       "       [140.4393  ],\n",
       "       [140.4334  ],\n",
       "       [142.07936 ],\n",
       "       [148.6302  ],\n",
       "       [153.43976 ],\n",
       "       [154.31938 ],\n",
       "       [153.00331 ],\n",
       "       [149.9626  ],\n",
       "       [150.45232 ],\n",
       "       [151.49611 ],\n",
       "       [152.73688 ],\n",
       "       [154.68123 ],\n",
       "       [154.86398 ],\n",
       "       [154.00772 ],\n",
       "       [154.02505 ],\n",
       "       [152.66414 ],\n",
       "       [149.02534 ],\n",
       "       [142.74597 ],\n",
       "       [139.58684 ],\n",
       "       [139.64432 ],\n",
       "       [140.65523 ],\n",
       "       [139.5976  ],\n",
       "       [136.18297 ],\n",
       "       [131.44867 ],\n",
       "       [128.84898 ],\n",
       "       [128.42416 ],\n",
       "       [126.924164],\n",
       "       [126.40459 ],\n",
       "       [124.18312 ],\n",
       "       [121.16067 ],\n",
       "       [120.507645],\n",
       "       [120.58574 ],\n",
       "       [121.18491 ],\n",
       "       [120.15454 ],\n",
       "       [118.976234],\n",
       "       [118.44253 ],\n",
       "       [117.6658  ],\n",
       "       [118.00507 ],\n",
       "       [119.702415],\n",
       "       [121.76269 ],\n",
       "       [123.69118 ],\n",
       "       [124.0833  ],\n",
       "       [123.32825 ],\n",
       "       [123.158905],\n",
       "       [123.55526 ],\n",
       "       [123.733475],\n",
       "       [124.187965],\n",
       "       [124.70175 ],\n",
       "       [124.842   ],\n",
       "       [124.708275],\n",
       "       [124.32    ],\n",
       "       [124.57447 ],\n",
       "       [125.10514 ],\n",
       "       [125.50266 ],\n",
       "       [124.546776],\n",
       "       [123.30808 ],\n",
       "       [121.81897 ],\n",
       "       [120.614815],\n",
       "       [119.43758 ],\n",
       "       [119.83061 ],\n",
       "       [120.6597  ],\n",
       "       [121.67319 ],\n",
       "       [122.60228 ],\n",
       "       [123.60154 ],\n",
       "       [124.576515],\n",
       "       [125.16089 ],\n",
       "       [125.57185 ],\n",
       "       [125.61528 ],\n",
       "       [125.52475 ],\n",
       "       [125.37602 ],\n",
       "       [126.407524],\n",
       "       [126.91369 ],\n",
       "       [127.91091 ],\n",
       "       [128.62901 ],\n",
       "       [128.82903 ],\n",
       "       [129.08717 ],\n",
       "       [130.06209 ],\n",
       "       [129.55212 ],\n",
       "       [128.86897 ],\n",
       "       [128.78592 ],\n",
       "       [129.10231 ],\n",
       "       [129.76503 ],\n",
       "       [130.76613 ],\n",
       "       [130.88943 ],\n",
       "       [130.87836 ],\n",
       "       [133.82892 ],\n",
       "       [139.03618 ],\n",
       "       [143.28491 ],\n",
       "       [144.25424 ],\n",
       "       [145.02165 ],\n",
       "       [144.89659 ],\n",
       "       [144.5254  ],\n",
       "       [143.54346 ],\n",
       "       [142.49112 ],\n",
       "       [140.97745 ],\n",
       "       [140.55714 ],\n",
       "       [141.01903 ],\n",
       "       [142.22961 ],\n",
       "       [143.12563 ],\n",
       "       [142.5805  ],\n",
       "       [141.19191 ],\n",
       "       [140.02098 ],\n",
       "       [139.26512 ],\n",
       "       [141.45607 ],\n",
       "       [143.09909 ],\n",
       "       [144.24294 ],\n",
       "       [144.55025 ],\n",
       "       [144.10306 ],\n",
       "       [142.99776 ],\n",
       "       [141.93668 ],\n",
       "       [139.92183 ],\n",
       "       [139.40242 ],\n",
       "       [140.67004 ],\n",
       "       [143.80827 ],\n",
       "       [146.27673 ],\n",
       "       [147.63501 ],\n",
       "       [147.53305 ],\n",
       "       [145.5958  ],\n",
       "       [147.70186 ],\n",
       "       [151.08984 ],\n",
       "       [151.82416 ],\n",
       "       [151.50586 ],\n",
       "       [151.16382 ],\n",
       "       [150.96687 ],\n",
       "       [151.19641 ],\n",
       "       [152.19902 ],\n",
       "       [153.42722 ],\n",
       "       [154.24196 ],\n",
       "       [153.18907 ],\n",
       "       [151.93628 ],\n",
       "       [152.65503 ],\n",
       "       [153.28813 ],\n",
       "       [152.70958 ],\n",
       "       [151.28891 ],\n",
       "       [149.69179 ],\n",
       "       [149.91937 ],\n",
       "       [151.95416 ],\n",
       "       [153.2483  ],\n",
       "       [153.5284  ],\n",
       "       [153.05753 ],\n",
       "       [153.5593  ],\n",
       "       [153.6085  ],\n",
       "       [153.79294 ],\n",
       "       [156.2865  ],\n",
       "       [157.92986 ],\n",
       "       [157.54391 ],\n",
       "       [154.89328 ],\n",
       "       [152.93013 ],\n",
       "       [153.39322 ],\n",
       "       [155.24861 ],\n",
       "       [156.1382  ],\n",
       "       [155.1741  ],\n",
       "       [154.82173 ],\n",
       "       [155.11264 ],\n",
       "       [154.73117 ],\n",
       "       [151.50653 ],\n",
       "       [149.5948  ],\n",
       "       [148.87053 ],\n",
       "       [147.56429 ],\n",
       "       [145.04999 ],\n",
       "       [143.83524 ],\n",
       "       [145.77638 ],\n",
       "       [147.55003 ],\n",
       "       [147.95349 ],\n",
       "       [149.1472  ],\n",
       "       [151.71118 ],\n",
       "       [154.79253 ],\n",
       "       [156.43494 ],\n",
       "       [155.44254 ],\n",
       "       [155.05933 ],\n",
       "       [155.12846 ],\n",
       "       [155.3257  ],\n",
       "       [154.35678 ],\n",
       "       [155.4654  ],\n",
       "       [158.24316 ],\n",
       "       [160.50497 ],\n",
       "       [160.56691 ],\n",
       "       [158.57552 ],\n",
       "       [157.12633 ],\n",
       "       [157.00076 ],\n",
       "       [156.57378 ],\n",
       "       [154.2833  ],\n",
       "       [150.45302 ],\n",
       "       [148.96808 ],\n",
       "       [149.3226  ],\n",
       "       [151.20638 ],\n",
       "       [153.0806  ],\n",
       "       [152.93526 ],\n",
       "       [154.71822 ],\n",
       "       [155.39404 ],\n",
       "       [157.08806 ],\n",
       "       [163.02293 ],\n",
       "       [169.46455 ],\n",
       "       [174.30821 ],\n",
       "       [176.31827 ],\n",
       "       [175.23013 ],\n",
       "       [175.25066 ],\n",
       "       [174.45334 ],\n",
       "       [174.56699 ],\n",
       "       [173.04108 ],\n",
       "       [172.14372 ],\n",
       "       [171.05832 ],\n",
       "       [171.16621 ],\n",
       "       [172.40538 ],\n",
       "       [171.10098 ],\n",
       "       [169.6194  ],\n",
       "       [169.4104  ],\n",
       "       [168.80774 ],\n",
       "       [166.89252 ],\n",
       "       [166.39107 ],\n",
       "       [166.90674 ],\n",
       "       [169.70747 ],\n",
       "       [169.30765 ],\n",
       "       [165.12799 ],\n",
       "       [158.65231 ],\n",
       "       [159.6649  ],\n",
       "       [172.19614 ],\n",
       "       [191.46442 ],\n",
       "       [198.49115 ],\n",
       "       [195.79086 ],\n",
       "       [192.51462 ],\n",
       "       [188.37967 ],\n",
       "       [191.21664 ],\n",
       "       [194.35477 ],\n",
       "       [194.29396 ],\n",
       "       [190.83798 ],\n",
       "       [192.85023 ],\n",
       "       [196.99399 ],\n",
       "       [198.38504 ],\n",
       "       [194.33441 ],\n",
       "       [193.12164 ],\n",
       "       [200.73459 ],\n",
       "       [206.63522 ],\n",
       "       [207.15988 ],\n",
       "       [206.39023 ],\n",
       "       [207.9524  ],\n",
       "       [206.26227 ],\n",
       "       [207.53912 ],\n",
       "       [208.51852 ],\n",
       "       [210.34244 ],\n",
       "       [213.21704 ],\n",
       "       [212.46051 ],\n",
       "       [209.49113 ],\n",
       "       [200.48816 ],\n",
       "       [193.13307 ],\n",
       "       [198.33487 ],\n",
       "       [201.30504 ],\n",
       "       [203.08002 ],\n",
       "       [204.82166 ],\n",
       "       [205.60358 ],\n",
       "       [204.18329 ],\n",
       "       [205.9823  ],\n",
       "       [208.15962 ],\n",
       "       [207.65614 ],\n",
       "       [206.39572 ],\n",
       "       [206.69064 ],\n",
       "       [209.40494 ],\n",
       "       [209.79495 ],\n",
       "       [208.15807 ],\n",
       "       [207.57332 ],\n",
       "       [205.68744 ],\n",
       "       [203.14174 ],\n",
       "       [201.42827 ],\n",
       "       [206.07967 ],\n",
       "       [206.99709 ],\n",
       "       [208.01762 ],\n",
       "       [215.99031 ],\n",
       "       [225.23233 ],\n",
       "       [226.86041 ],\n",
       "       [223.90492 ],\n",
       "       [220.79793 ],\n",
       "       [219.88707 ],\n",
       "       [227.77008 ],\n",
       "       [225.8715  ],\n",
       "       [220.14261 ],\n",
       "       [230.06012 ],\n",
       "       [235.75644 ],\n",
       "       [231.97652 ],\n",
       "       [236.69963 ],\n",
       "       [244.83832 ],\n",
       "       [247.30916 ],\n",
       "       [250.67253 ],\n",
       "       [263.0369  ],\n",
       "       [266.21936 ],\n",
       "       [262.12622 ],\n",
       "       [260.00345 ],\n",
       "       [264.46228 ],\n",
       "       [266.59842 ],\n",
       "       [273.46713 ],\n",
       "       [269.9175  ],\n",
       "       [270.68185 ],\n",
       "       [270.58316 ],\n",
       "       [266.65857 ],\n",
       "       [266.1849  ],\n",
       "       [264.297   ],\n",
       "       [270.97476 ],\n",
       "       [278.3562  ],\n",
       "       [285.77676 ],\n",
       "       [276.99655 ],\n",
       "       [267.66306 ],\n",
       "       [268.8296  ],\n",
       "       [275.7336  ],\n",
       "       [280.92194 ],\n",
       "       [287.49097 ],\n",
       "       [287.94775 ],\n",
       "       [284.51447 ],\n",
       "       [285.4725  ],\n",
       "       [290.17578 ],\n",
       "       [291.12598 ],\n",
       "       [290.2455  ],\n",
       "       [297.60672 ],\n",
       "       [298.0552  ],\n",
       "       [293.31937 ],\n",
       "       [292.14905 ],\n",
       "       [295.13916 ],\n",
       "       [297.31027 ],\n",
       "       [300.43463 ],\n",
       "       [298.91208 ],\n",
       "       [296.168   ],\n",
       "       [295.6843  ],\n",
       "       [306.70023 ],\n",
       "       [308.41074 ],\n",
       "       [298.37485 ],\n",
       "       [292.82974 ],\n",
       "       [289.71262 ],\n",
       "       [293.46686 ],\n",
       "       [296.59418 ],\n",
       "       [294.42465 ],\n",
       "       [289.9702  ],\n",
       "       [289.61713 ],\n",
       "       [289.53363 ],\n",
       "       [291.1821  ],\n",
       "       [280.9772  ],\n",
       "       [274.739   ],\n",
       "       [266.63138 ],\n",
       "       [264.78415 ],\n",
       "       [262.57034 ],\n",
       "       [272.79834 ],\n",
       "       [277.86105 ],\n",
       "       [272.44434 ],\n",
       "       [273.3878  ],\n",
       "       [273.76068 ],\n",
       "       [270.5866  ],\n",
       "       [266.3131  ],\n",
       "       [259.99268 ],\n",
       "       [255.26619 ],\n",
       "       [259.16855 ],\n",
       "       [259.33093 ],\n",
       "       [263.86133 ],\n",
       "       [267.95184 ],\n",
       "       [268.32062 ],\n",
       "       [266.7798  ],\n",
       "       [265.42172 ],\n",
       "       [266.13885 ],\n",
       "       [265.80972 ],\n",
       "       [261.07254 ],\n",
       "       [262.8544  ],\n",
       "       [261.9772  ],\n",
       "       [266.54135 ],\n",
       "       [270.69662 ],\n",
       "       [270.2422  ],\n",
       "       [268.9722  ],\n",
       "       [263.0804  ],\n",
       "       [251.83282 ],\n",
       "       [251.20192 ],\n",
       "       [257.24527 ],\n",
       "       [256.36807 ],\n",
       "       [252.1394  ],\n",
       "       [254.27664 ],\n",
       "       [258.38458 ],\n",
       "       [254.80064 ],\n",
       "       [265.37094 ],\n",
       "       [270.30374 ],\n",
       "       [263.0778  ],\n",
       "       [260.16556 ],\n",
       "       [262.48776 ],\n",
       "       [268.63763 ],\n",
       "       [268.26852 ],\n",
       "       [263.86368 ],\n",
       "       [262.53915 ],\n",
       "       [265.48376 ],\n",
       "       [270.51303 ],\n",
       "       [272.17206 ],\n",
       "       [272.97217 ],\n",
       "       [274.3532  ],\n",
       "       [274.65018 ],\n",
       "       [272.01355 ],\n",
       "       [270.6221  ],\n",
       "       [276.2134  ],\n",
       "       [280.77716 ],\n",
       "       [280.5059  ],\n",
       "       [282.7801  ],\n",
       "       [280.22382 ],\n",
       "       [273.31378 ],\n",
       "       [273.1731  ],\n",
       "       [281.63028 ],\n",
       "       [281.23868 ],\n",
       "       [278.81668 ],\n",
       "       [273.18884 ],\n",
       "       [274.0603  ],\n",
       "       [251.68706 ],\n",
       "       [231.77023 ],\n",
       "       [233.14404 ],\n",
       "       [247.56906 ],\n",
       "       [250.60503 ],\n",
       "       [243.50299 ],\n",
       "       [241.72342 ],\n",
       "       [246.37532 ],\n",
       "       [252.0967  ],\n",
       "       [254.70918 ],\n",
       "       [255.18968 ],\n",
       "       [251.67043 ],\n",
       "       [255.18918 ],\n",
       "       [262.22787 ],\n",
       "       [258.80594 ],\n",
       "       [247.50941 ],\n",
       "       [251.11879 ],\n",
       "       [259.89587 ],\n",
       "       [262.67514 ],\n",
       "       [259.55063 ],\n",
       "       [254.58609 ],\n",
       "       [257.06198 ],\n",
       "       [262.08502 ],\n",
       "       [269.27576 ],\n",
       "       [265.57965 ],\n",
       "       [263.077   ],\n",
       "       [257.66544 ],\n",
       "       [251.54654 ],\n",
       "       [249.53255 ],\n",
       "       [254.65042 ],\n",
       "       [259.67587 ],\n",
       "       [261.4766  ],\n",
       "       [258.5091  ],\n",
       "       [255.10114 ],\n",
       "       [259.32455 ],\n",
       "       [258.90866 ],\n",
       "       [269.39697 ],\n",
       "       [271.5451  ],\n",
       "       [262.19733 ],\n",
       "       [253.81702 ],\n",
       "       [262.06604 ],\n",
       "       [269.15976 ],\n",
       "       [263.85077 ],\n",
       "       [254.88779 ],\n",
       "       [249.10027 ],\n",
       "       [238.4407  ],\n",
       "       [239.83319 ],\n",
       "       [238.4362  ],\n",
       "       [232.18843 ],\n",
       "       [234.03778 ],\n",
       "       [241.44289 ],\n",
       "       [245.98016 ],\n",
       "       [236.96521 ],\n",
       "       [231.94945 ],\n",
       "       [236.38625 ],\n",
       "       [240.6644  ],\n",
       "       [243.87791 ],\n",
       "       [234.85048 ],\n",
       "       [228.5266  ],\n",
       "       [229.3043  ],\n",
       "       [236.1351  ],\n",
       "       [237.6585  ],\n",
       "       [233.92354 ],\n",
       "       [232.15091 ],\n",
       "       [230.24757 ],\n",
       "       [230.5998  ],\n",
       "       [233.92223 ],\n",
       "       [236.76747 ],\n",
       "       [239.28111 ],\n",
       "       [240.87161 ],\n",
       "       [236.95114 ],\n",
       "       [230.25285 ],\n",
       "       [225.44698 ],\n",
       "       [230.6735  ],\n",
       "       [232.9808  ],\n",
       "       [232.14197 ],\n",
       "       [231.85222 ],\n",
       "       [230.87892 ],\n",
       "       [232.16621 ],\n",
       "       [223.52144 ],\n",
       "       [217.05997 ],\n",
       "       [216.95427 ],\n",
       "       [221.17305 ],\n",
       "       [222.63332 ],\n",
       "       [216.75587 ],\n",
       "       [217.54628 ],\n",
       "       [229.3513  ],\n",
       "       [237.48781 ],\n",
       "       [234.55887 ],\n",
       "       [229.11665 ],\n",
       "       [227.80434 ],\n",
       "       [228.77762 ],\n",
       "       [231.88846 ],\n",
       "       [231.77237 ]], dtype=float32)"
      ]
     },
     "execution_count": 22,
     "metadata": {},
     "output_type": "execute_result"
    }
   ],
   "source": [
    "test_predict1"
   ]
  },
  {
   "cell_type": "markdown",
   "metadata": {
    "id": "_rOYINygP5nT"
   },
   "source": [
    "### Performance Metrics"
   ]
  },
  {
   "cell_type": "markdown",
   "metadata": {
    "id": "PkQlBSUiTjo0"
   },
   "source": [
    "### Mean Square error"
   ]
  },
  {
   "cell_type": "code",
   "execution_count": 23,
   "metadata": {
    "colab": {
     "base_uri": "https://localhost:8080/"
    },
    "id": "MJTQ33LMP83c",
    "outputId": "cec97617-17b6-4b14-d591-4eb304ebe688"
   },
   "outputs": [
    {
     "data": {
      "text/plain": [
       "0.03244259055842419"
      ]
     },
     "execution_count": 23,
     "metadata": {},
     "output_type": "execute_result"
    }
   ],
   "source": [
    "import math\n",
    "from sklearn.metrics import mean_squared_error\n",
    "import sklearn.metrics as metrics\n",
    "math.sqrt(mean_squared_error(ytest, test_predict)) # MSE Is low "
   ]
  },
  {
   "cell_type": "markdown",
   "metadata": {},
   "source": [
    "### Conclusion: Hence, we can conclude that the mean squared error is low and is 0.032445"
   ]
  },
  {
   "cell_type": "code",
   "execution_count": null,
   "metadata": {},
   "outputs": [],
   "source": []
  }
 ],
 "metadata": {
  "accelerator": "GPU",
  "colab": {
   "name": "Stock Market Prediction.ipynb",
   "provenance": []
  },
  "kernelspec": {
   "display_name": "Python 3 (ipykernel)",
   "language": "python",
   "name": "python3"
  },
  "language_info": {
   "codemirror_mode": {
    "name": "ipython",
    "version": 3
   },
   "file_extension": ".py",
   "mimetype": "text/x-python",
   "name": "python",
   "nbconvert_exporter": "python",
   "pygments_lexer": "ipython3",
   "version": "3.9.7"
  }
 },
 "nbformat": 4,
 "nbformat_minor": 1
}
