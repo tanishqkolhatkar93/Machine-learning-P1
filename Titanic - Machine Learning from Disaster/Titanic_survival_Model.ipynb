{
  "nbformat": 4,
  "nbformat_minor": 0,
  "metadata": {
    "colab": {
      "name": "Titanic_survival_Model.ipynb",
      "provenance": []
    },
    "kernelspec": {
      "name": "python3",
      "display_name": "Python 3"
    },
    "language_info": {
      "name": "python"
    }
  },
  "cells": [
    {
      "cell_type": "markdown",
      "metadata": {
        "id": "KMz5MnXXI8d3"
      },
      "source": [
        "### Importing Libraries\n",
        "\n",
        "\n",
        "*   PANDAS\n",
        "*   NUMPY\n",
        "*   SKLEARN\n",
        "\n",
        "\n",
        "\n",
        "\n"
      ]
    },
    {
      "cell_type": "code",
      "metadata": {
        "id": "JqbVuR7dbpLM"
      },
      "source": [
        "import pandas as pd\n",
        "import numpy as np\n",
        "from sklearn.model_selection import train_test_split\n",
        "from warnings import filterwarnings\n",
        "filterwarnings(action='ignore')"
      ],
      "execution_count": 1,
      "outputs": []
    },
    {
      "cell_type": "markdown",
      "metadata": {
        "id": "jQ2VTCjgJW71"
      },
      "source": [
        "### Importing data"
      ]
    },
    {
      "cell_type": "code",
      "metadata": {
        "colab": {
          "base_uri": "https://localhost:8080/",
          "height": 206
        },
        "id": "OTrNgQDccCkY",
        "outputId": "d0c8305a-5306-46e6-b622-5fa284221537"
      },
      "source": [
        "df=pd.read_csv('https://raw.githubusercontent.com/vaasu2002/Machine-Learning-Projects/main/Titanic%20-%20Machine%20Learning%20from%20Disaster/Titanic_dataset.csv')\n",
        "df.head()"
      ],
      "execution_count": 2,
      "outputs": [
        {
          "output_type": "execute_result",
          "data": {
            "text/html": [
              "<div>\n",
              "<style scoped>\n",
              "    .dataframe tbody tr th:only-of-type {\n",
              "        vertical-align: middle;\n",
              "    }\n",
              "\n",
              "    .dataframe tbody tr th {\n",
              "        vertical-align: top;\n",
              "    }\n",
              "\n",
              "    .dataframe thead th {\n",
              "        text-align: right;\n",
              "    }\n",
              "</style>\n",
              "<table border=\"1\" class=\"dataframe\">\n",
              "  <thead>\n",
              "    <tr style=\"text-align: right;\">\n",
              "      <th></th>\n",
              "      <th>Unnamed: 0</th>\n",
              "      <th>PassengerId</th>\n",
              "      <th>Survived</th>\n",
              "      <th>Pclass</th>\n",
              "      <th>Sex</th>\n",
              "      <th>Age</th>\n",
              "      <th>SibSp</th>\n",
              "      <th>Parch</th>\n",
              "      <th>Fare</th>\n",
              "      <th>Embarked</th>\n",
              "    </tr>\n",
              "  </thead>\n",
              "  <tbody>\n",
              "    <tr>\n",
              "      <th>0</th>\n",
              "      <td>0</td>\n",
              "      <td>1</td>\n",
              "      <td>0</td>\n",
              "      <td>3</td>\n",
              "      <td>0</td>\n",
              "      <td>22.0</td>\n",
              "      <td>1</td>\n",
              "      <td>0</td>\n",
              "      <td>7.2500</td>\n",
              "      <td>2</td>\n",
              "    </tr>\n",
              "    <tr>\n",
              "      <th>1</th>\n",
              "      <td>1</td>\n",
              "      <td>2</td>\n",
              "      <td>1</td>\n",
              "      <td>1</td>\n",
              "      <td>1</td>\n",
              "      <td>38.0</td>\n",
              "      <td>1</td>\n",
              "      <td>0</td>\n",
              "      <td>71.2833</td>\n",
              "      <td>0</td>\n",
              "    </tr>\n",
              "    <tr>\n",
              "      <th>2</th>\n",
              "      <td>2</td>\n",
              "      <td>3</td>\n",
              "      <td>1</td>\n",
              "      <td>3</td>\n",
              "      <td>1</td>\n",
              "      <td>26.0</td>\n",
              "      <td>0</td>\n",
              "      <td>0</td>\n",
              "      <td>7.9250</td>\n",
              "      <td>2</td>\n",
              "    </tr>\n",
              "    <tr>\n",
              "      <th>3</th>\n",
              "      <td>3</td>\n",
              "      <td>4</td>\n",
              "      <td>1</td>\n",
              "      <td>1</td>\n",
              "      <td>1</td>\n",
              "      <td>35.0</td>\n",
              "      <td>1</td>\n",
              "      <td>0</td>\n",
              "      <td>53.1000</td>\n",
              "      <td>2</td>\n",
              "    </tr>\n",
              "    <tr>\n",
              "      <th>4</th>\n",
              "      <td>4</td>\n",
              "      <td>5</td>\n",
              "      <td>0</td>\n",
              "      <td>3</td>\n",
              "      <td>0</td>\n",
              "      <td>35.0</td>\n",
              "      <td>0</td>\n",
              "      <td>0</td>\n",
              "      <td>8.0500</td>\n",
              "      <td>2</td>\n",
              "    </tr>\n",
              "  </tbody>\n",
              "</table>\n",
              "</div>"
            ],
            "text/plain": [
              "   Unnamed: 0  PassengerId  Survived  Pclass  ...  SibSp  Parch     Fare  Embarked\n",
              "0           0            1         0       3  ...      1      0   7.2500         2\n",
              "1           1            2         1       1  ...      1      0  71.2833         0\n",
              "2           2            3         1       3  ...      0      0   7.9250         2\n",
              "3           3            4         1       1  ...      1      0  53.1000         2\n",
              "4           4            5         0       3  ...      0      0   8.0500         2\n",
              "\n",
              "[5 rows x 10 columns]"
            ]
          },
          "metadata": {},
          "execution_count": 2
        }
      ]
    },
    {
      "cell_type": "code",
      "metadata": {
        "colab": {
          "base_uri": "https://localhost:8080/",
          "height": 206
        },
        "id": "40EeX2HwcUiQ",
        "outputId": "3e49db4a-dda3-47e6-8bc7-bf222fda8f41"
      },
      "source": [
        "del df['Unnamed: 0']\n",
        "df.head()"
      ],
      "execution_count": 3,
      "outputs": [
        {
          "output_type": "execute_result",
          "data": {
            "text/html": [
              "<div>\n",
              "<style scoped>\n",
              "    .dataframe tbody tr th:only-of-type {\n",
              "        vertical-align: middle;\n",
              "    }\n",
              "\n",
              "    .dataframe tbody tr th {\n",
              "        vertical-align: top;\n",
              "    }\n",
              "\n",
              "    .dataframe thead th {\n",
              "        text-align: right;\n",
              "    }\n",
              "</style>\n",
              "<table border=\"1\" class=\"dataframe\">\n",
              "  <thead>\n",
              "    <tr style=\"text-align: right;\">\n",
              "      <th></th>\n",
              "      <th>PassengerId</th>\n",
              "      <th>Survived</th>\n",
              "      <th>Pclass</th>\n",
              "      <th>Sex</th>\n",
              "      <th>Age</th>\n",
              "      <th>SibSp</th>\n",
              "      <th>Parch</th>\n",
              "      <th>Fare</th>\n",
              "      <th>Embarked</th>\n",
              "    </tr>\n",
              "  </thead>\n",
              "  <tbody>\n",
              "    <tr>\n",
              "      <th>0</th>\n",
              "      <td>1</td>\n",
              "      <td>0</td>\n",
              "      <td>3</td>\n",
              "      <td>0</td>\n",
              "      <td>22.0</td>\n",
              "      <td>1</td>\n",
              "      <td>0</td>\n",
              "      <td>7.2500</td>\n",
              "      <td>2</td>\n",
              "    </tr>\n",
              "    <tr>\n",
              "      <th>1</th>\n",
              "      <td>2</td>\n",
              "      <td>1</td>\n",
              "      <td>1</td>\n",
              "      <td>1</td>\n",
              "      <td>38.0</td>\n",
              "      <td>1</td>\n",
              "      <td>0</td>\n",
              "      <td>71.2833</td>\n",
              "      <td>0</td>\n",
              "    </tr>\n",
              "    <tr>\n",
              "      <th>2</th>\n",
              "      <td>3</td>\n",
              "      <td>1</td>\n",
              "      <td>3</td>\n",
              "      <td>1</td>\n",
              "      <td>26.0</td>\n",
              "      <td>0</td>\n",
              "      <td>0</td>\n",
              "      <td>7.9250</td>\n",
              "      <td>2</td>\n",
              "    </tr>\n",
              "    <tr>\n",
              "      <th>3</th>\n",
              "      <td>4</td>\n",
              "      <td>1</td>\n",
              "      <td>1</td>\n",
              "      <td>1</td>\n",
              "      <td>35.0</td>\n",
              "      <td>1</td>\n",
              "      <td>0</td>\n",
              "      <td>53.1000</td>\n",
              "      <td>2</td>\n",
              "    </tr>\n",
              "    <tr>\n",
              "      <th>4</th>\n",
              "      <td>5</td>\n",
              "      <td>0</td>\n",
              "      <td>3</td>\n",
              "      <td>0</td>\n",
              "      <td>35.0</td>\n",
              "      <td>0</td>\n",
              "      <td>0</td>\n",
              "      <td>8.0500</td>\n",
              "      <td>2</td>\n",
              "    </tr>\n",
              "  </tbody>\n",
              "</table>\n",
              "</div>"
            ],
            "text/plain": [
              "   PassengerId  Survived  Pclass  Sex   Age  SibSp  Parch     Fare  Embarked\n",
              "0            1         0       3    0  22.0      1      0   7.2500         2\n",
              "1            2         1       1    1  38.0      1      0  71.2833         0\n",
              "2            3         1       3    1  26.0      0      0   7.9250         2\n",
              "3            4         1       1    1  35.0      1      0  53.1000         2\n",
              "4            5         0       3    0  35.0      0      0   8.0500         2"
            ]
          },
          "metadata": {},
          "execution_count": 3
        }
      ]
    },
    {
      "cell_type": "markdown",
      "metadata": {
        "id": "B-JNgb4RJst4"
      },
      "source": [
        "### Spliting the dataset into:-\n",
        "\n",
        "*   Training \n",
        "*   Testing \n",
        "\n"
      ]
    },
    {
      "cell_type": "code",
      "metadata": {
        "id": "picez82WJhQ2"
      },
      "source": [
        "X_train, X_test, Y_train, Y_test = train_test_split(df.drop('Survived',axis=1), \n",
        "                                                    df['Survived'], test_size=0.3, \n",
        "                                                    random_state=94)"
      ],
      "execution_count": 4,
      "outputs": []
    },
    {
      "cell_type": "markdown",
      "metadata": {
        "id": "F1NubUm6J2NM"
      },
      "source": [
        "### Applying following machine learning module:-\n",
        "\n",
        "\n",
        "1.   Logistic Regression\n",
        "2.   Support Vector Machine\n",
        "3.   KNN\n",
        "4.   Naive Bayes\n",
        "5.   Decision Tree\n"
      ]
    },
    {
      "cell_type": "code",
      "metadata": {
        "colab": {
          "base_uri": "https://localhost:8080/"
        },
        "id": "8di9yTz6dI6K",
        "outputId": "25a13e7a-8e5a-4ee4-fcdd-c27e3c561331"
      },
      "source": [
        "#Using LogisticRegression\n",
        "from sklearn.linear_model import LogisticRegression\n",
        "model = LogisticRegression()\n",
        "model.fit(X_train,Y_train)\n",
        "Y_pred = model.predict(X_test)\n",
        "\n",
        "from sklearn.metrics import accuracy_score\n",
        "print(f\"Accuracy Score: {(accuracy_score(Y_test,Y_pred))*100} %\")"
      ],
      "execution_count": 5,
      "outputs": [
        {
          "output_type": "stream",
          "name": "stdout",
          "text": [
            "Accuracy Score: 83.14606741573034 %\n"
          ]
        }
      ]
    },
    {
      "cell_type": "code",
      "metadata": {
        "colab": {
          "base_uri": "https://localhost:8080/"
        },
        "id": "gPu5CXWvdI93",
        "outputId": "885ba5f3-6d6c-4f0b-c757-737d8273bd9b"
      },
      "source": [
        "#Using Support Vector\n",
        "from sklearn.svm import SVC\n",
        "model1 = SVC()\n",
        "model1.fit(X_train,Y_train)\n",
        "\n",
        "pred_y = model1.predict(X_test)\n",
        "\n",
        "from sklearn.metrics import accuracy_score\n",
        "print(f\"Accuracy Score: {(accuracy_score(Y_test,pred_y))*100} %\")"
      ],
      "execution_count": 6,
      "outputs": [
        {
          "output_type": "stream",
          "name": "stdout",
          "text": [
            "Accuracy Score: 62.546816479400746 %\n"
          ]
        }
      ]
    },
    {
      "cell_type": "code",
      "metadata": {
        "colab": {
          "base_uri": "https://localhost:8080/"
        },
        "id": "i5qKGpvadJBp",
        "outputId": "fe1d7035-8742-4705-bd10-96b0ee42922d"
      },
      "source": [
        "#Using KNN Neighbors\n",
        "from sklearn.neighbors import KNeighborsClassifier\n",
        "model2 = KNeighborsClassifier(n_neighbors=5)\n",
        "model2.fit(X_train,Y_train)\n",
        "y_pred2 = model2.predict(X_test)\n",
        "\n",
        "from sklearn.metrics import accuracy_score\n",
        "print(f\"Accuracy Score: {(accuracy_score(Y_test,y_pred2))*100} %\")"
      ],
      "execution_count": 7,
      "outputs": [
        {
          "output_type": "stream",
          "name": "stdout",
          "text": [
            "Accuracy Score: 60.67415730337079 %\n"
          ]
        }
      ]
    },
    {
      "cell_type": "code",
      "metadata": {
        "colab": {
          "base_uri": "https://localhost:8080/"
        },
        "id": "lZDRKec8dJDw",
        "outputId": "ca0fd2f4-8efe-44d2-90a6-2c6c49f2699c"
      },
      "source": [
        "#Using Naive Bayes\n",
        "from sklearn.naive_bayes import GaussianNB\n",
        "model3 = GaussianNB()\n",
        "model3.fit(X_train,Y_train)\n",
        "y_pred3 = model3.predict(X_test)\n",
        "\n",
        "from sklearn.metrics import accuracy_score\n",
        "print(f\"Accuracy Score: {(accuracy_score(Y_test,y_pred3))*100} %\")"
      ],
      "execution_count": 8,
      "outputs": [
        {
          "output_type": "stream",
          "name": "stdout",
          "text": [
            "Accuracy Score: 83.14606741573034 %\n"
          ]
        }
      ]
    },
    {
      "cell_type": "code",
      "metadata": {
        "colab": {
          "base_uri": "https://localhost:8080/"
        },
        "id": "rKfpfCJQdE5-",
        "outputId": "4ea59408-ebd9-4885-8eae-44c3dd401ee6"
      },
      "source": [
        "#Using Decision Tree\n",
        "from sklearn.tree import DecisionTreeClassifier\n",
        "model4 = DecisionTreeClassifier(criterion='entropy',random_state=7)\n",
        "model4.fit(X_train,Y_train)\n",
        "y_pred4 = model4.predict(X_test)\n",
        "\n",
        "from sklearn.metrics import accuracy_score\n",
        "print(f\"Accuracy Score: {(accuracy_score(Y_test,y_pred4))*100} %\")"
      ],
      "execution_count": 9,
      "outputs": [
        {
          "output_type": "stream",
          "name": "stdout",
          "text": [
            "Accuracy Score: 72.28464419475655 %\n"
          ]
        }
      ]
    },
    {
      "cell_type": "code",
      "metadata": {
        "colab": {
          "base_uri": "https://localhost:8080/",
          "height": 238
        },
        "id": "erNoY7JrgEF8",
        "outputId": "ae689dab-f1ec-426a-b9c4-974406098616"
      },
      "source": [
        "results = pd.DataFrame({\n",
        "    'Model / Algorithm': ['Logistic Regression','Support Vector Machines', 'Naive Bayes','KNN' ,'Decision Tree'],\n",
        "    'Score(accuracy)': [83.14,62.54,83.14,60.67,72.28]})\n",
        "\n",
        "result_df = results.sort_values(by='Score(accuracy)', ascending=False)\n",
        "result_df = result_df.set_index('Score(accuracy)')\n",
        "result_df"
      ],
      "execution_count": 10,
      "outputs": [
        {
          "output_type": "execute_result",
          "data": {
            "text/html": [
              "<div>\n",
              "<style scoped>\n",
              "    .dataframe tbody tr th:only-of-type {\n",
              "        vertical-align: middle;\n",
              "    }\n",
              "\n",
              "    .dataframe tbody tr th {\n",
              "        vertical-align: top;\n",
              "    }\n",
              "\n",
              "    .dataframe thead th {\n",
              "        text-align: right;\n",
              "    }\n",
              "</style>\n",
              "<table border=\"1\" class=\"dataframe\">\n",
              "  <thead>\n",
              "    <tr style=\"text-align: right;\">\n",
              "      <th></th>\n",
              "      <th>Model / Algorithm</th>\n",
              "    </tr>\n",
              "    <tr>\n",
              "      <th>Score(accuracy)</th>\n",
              "      <th></th>\n",
              "    </tr>\n",
              "  </thead>\n",
              "  <tbody>\n",
              "    <tr>\n",
              "      <th>83.14</th>\n",
              "      <td>Logistic Regression</td>\n",
              "    </tr>\n",
              "    <tr>\n",
              "      <th>83.14</th>\n",
              "      <td>Naive Bayes</td>\n",
              "    </tr>\n",
              "    <tr>\n",
              "      <th>72.28</th>\n",
              "      <td>Decision Tree</td>\n",
              "    </tr>\n",
              "    <tr>\n",
              "      <th>62.54</th>\n",
              "      <td>Support Vector Machines</td>\n",
              "    </tr>\n",
              "    <tr>\n",
              "      <th>60.67</th>\n",
              "      <td>KNN</td>\n",
              "    </tr>\n",
              "  </tbody>\n",
              "</table>\n",
              "</div>"
            ],
            "text/plain": [
              "                       Model / Algorithm\n",
              "Score(accuracy)                         \n",
              "83.14                Logistic Regression\n",
              "83.14                        Naive Bayes\n",
              "72.28                      Decision Tree\n",
              "62.54            Support Vector Machines\n",
              "60.67                                KNN"
            ]
          },
          "metadata": {},
          "execution_count": 10
        }
      ]
    },
    {
      "cell_type": "markdown",
      "metadata": {
        "id": "NOHoBixwh87K"
      },
      "source": [
        "\n",
        "```Best Algorithm / model are: - Logistic Regression and Naive Bayes ```"
      ]
    }
  ]
}
